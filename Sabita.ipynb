{
 "cells": [
  {
   "cell_type": "markdown",
   "id": "0d025711-1a6e-40c8-8c91-ca44885c98b1",
   "metadata": {},
   "source": [
    "<h1>1. Write program to illustrate variables, constants, data types and type conversion.</h1>"
   ]
  },
  {
   "cell_type": "markdown",
   "id": "9ab45bce-d92a-492e-aa95-0b6be34a0550",
   "metadata": {},
   "source": [
    "<h3>Variables and Constants Example</h3>"
   ]
  },
  {
   "cell_type": "code",
   "execution_count": 1,
   "id": "879a9079-4108-4c82-b2cb-9958c27a346e",
   "metadata": {},
   "outputs": [
    {
     "name": "stdout",
     "output_type": "stream",
     "text": [
      "Name: Sabita\n",
      "Age: 23\n",
      "Height: 5.6\n",
      "Constant PI: 3.14159\n",
      "Constant GRAVITY: 9.8\n"
     ]
    }
   ],
   "source": [
    "# Variable (value can be changed)\n",
    "name = \"Sabita\"\n",
    "age = 23\n",
    "height = 5.6\n",
    "\n",
    "# Constant \n",
    "PI = 3.14159\n",
    "GRAVITY = 9.8\n",
    "\n",
    "print(\"Name:\", name)\n",
    "print(\"Age:\", age)\n",
    "print(\"Height:\", height)\n",
    "print(\"Constant PI:\", PI)\n",
    "print(\"Constant GRAVITY:\", GRAVITY)\n"
   ]
  },
  {
   "cell_type": "markdown",
   "id": "1fd86972-3ee4-404b-9740-ec05da4ae797",
   "metadata": {},
   "source": [
    "<h3>Data Types Example</h3>"
   ]
  },
  {
   "cell_type": "code",
   "execution_count": 2,
   "id": "ab5035a1-6f87-489d-8271-4eb0986ef612",
   "metadata": {},
   "outputs": [
    {
     "name": "stdout",
     "output_type": "stream",
     "text": [
      "Integer: 10\n",
      "Float: 3.14\n",
      "String: Hello\n",
      "Boolean: True\n",
      "List: [1, 2, 3, 4, 5]\n",
      "Tuple: (10, 20, 30)\n",
      "Set: {1, 2, 3, 4, 5}\n",
      "Dictionary: {'a': 1, 'b': 2}\n"
     ]
    }
   ],
   "source": [
    "integer_var = 10              \n",
    "float_var = 3.14              \n",
    "string_var = \"Hello\"          \n",
    "boolean_var = True            \n",
    "list_var = [1, 2, 3, 4, 5]   \n",
    "tuple_var = (10, 20, 30)      \n",
    "set_var = {1, 2, 3, 4, 5}     \n",
    "dict_var = {\"a\": 1, \"b\": 2}   \n",
    "\n",
    "print(\"Integer:\", integer_var)\n",
    "print(\"Float:\", float_var)\n",
    "print(\"String:\", string_var)\n",
    "print(\"Boolean:\", boolean_var)\n",
    "print(\"List:\", list_var)\n",
    "print(\"Tuple:\", tuple_var)\n",
    "print(\"Set:\", set_var)\n",
    "print(\"Dictionary:\", dict_var)\n"
   ]
  },
  {
   "cell_type": "markdown",
   "id": "2ce05ad4-2b14-4954-b3c6-d0ba4c78a72f",
   "metadata": {},
   "source": [
    "<h3>Type Conversion Example</h3>"
   ]
  },
  {
   "cell_type": "code",
   "execution_count": 20,
   "id": "8fe8ef73-04bd-4954-8d61-360b2d275dab",
   "metadata": {},
   "outputs": [
    {
     "name": "stdout",
     "output_type": "stream",
     "text": [
      "Implicit Conversion Result: 12.5\n",
      "String to Int: 100\n",
      "String to Float: 100.0\n",
      "Float to Int: 9\n"
     ]
    }
   ],
   "source": [
    "# Implicit Type Conversion\n",
    "num_int = 10\n",
    "num_float = 2.5\n",
    "\n",
    "result = num_int + num_float   \n",
    "print(\"Implicit Conversion Result:\", result)\n",
    "\n",
    "# Explicit Type Conversion (Casting)\n",
    "num_str = \"100\"\n",
    "num_int2 = int(num_str)        \n",
    "num_float2 = float(num_str)    \n",
    "\n",
    "print(\"String to Int:\", num_int2)\n",
    "print(\"String to Float:\", num_float2)\n",
    "\n",
    "# Converting float to int \n",
    "x = 9.99\n",
    "y = int(x)\n",
    "print(\"Float to Int:\", y)\n"
   ]
  },
  {
   "cell_type": "markdown",
   "id": "17fdf981-1d45-4f29-bd74-49daf68bdf2f",
   "metadata": {},
   "source": [
    "<h1>2. Write program to demonstrate different types of operators available in python and perform calculations.</h1>"
   ]
  },
  {
   "cell_type": "markdown",
   "id": "19b60095-0847-46a8-bdbf-270b26f97c87",
   "metadata": {},
   "source": [
    "<h3>1. Arithmetic operations</h3>"
   ]
  },
  {
   "cell_type": "code",
   "execution_count": 29,
   "id": "0c5cead3-866b-4079-a857-969842b6a3e2",
   "metadata": {},
   "outputs": [
    {
     "name": "stdout",
     "output_type": "stream",
     "text": [
      "Arithmetic Operators\n",
      "a + b = 15\n",
      "a - b = 5\n",
      "a * b = 50\n",
      "a / b = 2.0\n",
      "a % b = 0\n",
      "a ** b = 100000\n",
      "a // b = 2\n"
     ]
    }
   ],
   "source": [
    "a = 10\n",
    "b = 5\n",
    "\n",
    "print(\"Arithmetic Operators\")\n",
    "print(\"a + b =\", a + b)   \n",
    "print(\"a - b =\", a - b)   \n",
    "print(\"a * b =\", a * b)   \n",
    "print(\"a / b =\", a / b)   \n",
    "print(\"a % b =\", a % b)   \n",
    "print(\"a ** b =\", a ** b) \n",
    "print(\"a // b =\", a // b) "
   ]
  },
  {
   "cell_type": "markdown",
   "id": "8052c441-2d15-4e06-b7db-939fe5d74dae",
   "metadata": {},
   "source": [
    "<h3>2.Comparison Operations</h3>"
   ]
  },
  {
   "cell_type": "code",
   "execution_count": 30,
   "id": "94adbbff-0380-4d70-8c50-24a442a162af",
   "metadata": {},
   "outputs": [
    {
     "name": "stdout",
     "output_type": "stream",
     "text": [
      "\n",
      "Comparison Operators \n",
      "a == b: False\n",
      "a != b: True\n",
      "a > b: True\n",
      "a < b: False\n",
      "a >= b: True\n",
      "a <= b: False\n"
     ]
    }
   ],
   "source": [
    "a = 10\n",
    "b = 5\n",
    "\n",
    "print(\"\\nComparison Operators \")\n",
    "print(\"a == b:\", a == b)  \n",
    "print(\"a != b:\", a != b)  \n",
    "print(\"a > b:\", a > b)    \n",
    "print(\"a < b:\", a < b)    \n",
    "print(\"a >= b:\", a >= b)  \n",
    "print(\"a <= b:\", a <= b)  "
   ]
  },
  {
   "cell_type": "markdown",
   "id": "e3cfbaeb-c252-4832-98b0-7a03b0ba6df2",
   "metadata": {},
   "source": [
    "<h3>3.Logical Operators</h3>"
   ]
  },
  {
   "cell_type": "code",
   "execution_count": 32,
   "id": "814cca2e-e8ee-4650-a718-e2ffb3a59d2f",
   "metadata": {},
   "outputs": [
    {
     "name": "stdout",
     "output_type": "stream",
     "text": [
      "\n",
      "Logical Operators\n",
      "x and y: False\n",
      "x or y: True\n",
      "not x: False\n"
     ]
    }
   ],
   "source": [
    "print(\"\\nLogical Operators\")\n",
    "x = True\n",
    "y = False\n",
    "print(\"x and y:\", x and y)\n",
    "print(\"x or y:\", x or y)\n",
    "print(\"not x:\", not x)"
   ]
  },
  {
   "cell_type": "markdown",
   "id": "9436441d-4227-4b7b-9b67-a86348bf4934",
   "metadata": {},
   "source": [
    "<h3>4.Assignment Operators</h3>"
   ]
  },
  {
   "cell_type": "code",
   "execution_count": null,
   "id": "8862c439-a6ec-4db1-9dfa-8a8f2c95abf2",
   "metadata": {},
   "outputs": [],
   "source": [
    "print(\"\\nAssignment Operators\")\n",
    "c = 10\n",
    "print(\"c =\", c)\n",
    "c += 5\n",
    "print(\"c += 5:\", c)\n",
    "c -= 3\n",
    "print(\"c -= 3:\", c)\n",
    "c *= 2\n",
    "print(\"c *= 2:\", c)\n",
    "c /= 4\n",
    "print(\"c /= 4:\", c)\n",
    "c %= 3\n",
    "print(\"c %= 3:\", c)\n",
    "c **= 2\n",
    "print(\"c **= 2:\", c)\n",
    "c //= 2\n",
    "print(\"c //= 2:\", c)"
   ]
  },
  {
   "cell_type": "markdown",
   "id": "49152de1-ebd2-4783-8253-f9619c0d3aaf",
   "metadata": {},
   "source": [
    "<h3>5.Bitwise Operators</h3>"
   ]
  },
  {
   "cell_type": "code",
   "execution_count": 34,
   "id": "cdab5a54-adaf-418a-92c0-a5512f7443af",
   "metadata": {},
   "outputs": [
    {
     "name": "stdout",
     "output_type": "stream",
     "text": [
      "\n",
      "Bitwise Operators\n",
      "m & n : 2\n",
      "m | n : 7\n",
      "m ^ n : 5\n",
      "~m : -7\n",
      "m << 1 : 12\n",
      "m >> 1 : 3\n"
     ]
    }
   ],
   "source": [
    "print(\"\\nBitwise Operators\")\n",
    "m = 6   # binary: 110\n",
    "n = 3   # binary: 011\n",
    "print(\"m & n :\", m & n)\n",
    "print(\"m | n :\", m | n)\n",
    "print(\"m ^ n :\", m ^ n)\n",
    "print(\"~m :\", ~m)\n",
    "print(\"m << 1 :\", m << 1)\n",
    "print(\"m >> 1 :\", m >> 1)"
   ]
  },
  {
   "cell_type": "markdown",
   "id": "2768b1b2-96a1-4c84-b6f8-c427c2abce55",
   "metadata": {},
   "source": [
    "<h3>6.Identity Operators</h3>"
   ]
  },
  {
   "cell_type": "code",
   "execution_count": 35,
   "id": "d456d7c2-6e25-48ba-8bf5-17465356b8f1",
   "metadata": {},
   "outputs": [
    {
     "name": "stdout",
     "output_type": "stream",
     "text": [
      "\n",
      "Identity Operators\n",
      "p is q: True\n",
      "p is r: False\n",
      "p is not r: True\n"
     ]
    }
   ],
   "source": [
    "print(\"\\nIdentity Operators\")\n",
    "p = [1, 2, 3]\n",
    "q = p\n",
    "r = [1, 2, 3]\n",
    "print(\"p is q:\", p is q)       \n",
    "print(\"p is r:\", p is r)       \n",
    "print(\"p is not r:\", p is not r)"
   ]
  },
  {
   "cell_type": "markdown",
   "id": "95721e04-8cb3-4e58-9cad-e6a861a0a5c1",
   "metadata": {},
   "source": [
    "<h3>7.Membership Operators</h3>"
   ]
  },
  {
   "cell_type": "code",
   "execution_count": 11,
   "id": "5e983d69-fe9d-4408-8757-8261563a7728",
   "metadata": {},
   "outputs": [
    {
     "name": "stdout",
     "output_type": "stream",
     "text": [
      "\n",
      "Membership Operators\n",
      "3 in nums: True\n",
      "10 not in nums: True\n"
     ]
    }
   ],
   "source": [
    "print(\"\\nMembership Operators\")\n",
    "nums = [1, 2, 3, 4, 5]\n",
    "print(\"3 in nums:\", 3 in nums)\n",
    "print(\"10 not in nums:\", 10 not in nums)"
   ]
  },
  {
   "cell_type": "markdown",
   "id": "18a956a8-b934-4e6e-8b59-a5c082ef0a45",
   "metadata": {},
   "source": [
    "<h1>3.Write program to make use of I/O functions.</h1>"
   ]
  },
  {
   "cell_type": "code",
   "execution_count": 2,
   "id": "8dc3ebbb-e833-4f65-8d6a-e24b97fb421d",
   "metadata": {},
   "outputs": [
    {
     "name": "stdin",
     "output_type": "stream",
     "text": [
      "Enter your name:  Sabita\n",
      "Enter your age:  23\n",
      "Enter your marks:  5\n"
     ]
    },
    {
     "name": "stdout",
     "output_type": "stream",
     "text": [
      "\n",
      "---- Output ----\n",
      "Hello, Sabita\n",
      "Your current age is: 23\n",
      "Next year you will be: 24\n",
      "Your marks are: 5.0 which is 5.0 %\n"
     ]
    }
   ],
   "source": [
    "name = input(\"Enter your name: \")\n",
    "age = int(input(\"Enter your age: \"))\n",
    "marks = float(input(\"Enter your marks: \"))\n",
    "\n",
    "next_age = age + 1\n",
    "percentage = (marks / 100) * 100  \n",
    "print(\"\\n---- Output ----\")\n",
    "print(\"Hello,\", name)\n",
    "print(\"Your current age is:\", age)\n",
    "print(\"Next year you will be:\", next_age)\n",
    "print(\"Your marks are:\", marks, \"which is\", percentage, \"%\")"
   ]
  },
  {
   "cell_type": "markdown",
   "id": "15b51554-e51d-4d0a-aef7-34f4c64288e9",
   "metadata": {},
   "source": [
    "<h1>4.Write program to apply if, match, break and continue statements for decision making.</h1>"
   ]
  },
  {
   "cell_type": "code",
   "execution_count": 2,
   "id": "c065ee9f-7b28-435f-b544-d9548555f837",
   "metadata": {},
   "outputs": [
    {
     "name": "stdin",
     "output_type": "stream",
     "text": [
      "Enter a number between 1 and 5:  4\n"
     ]
    },
    {
     "name": "stdout",
     "output_type": "stream",
     "text": [
      "4 is Even\n",
      "Number is FOUR\n",
      "\n",
      "Loop demonstration (1 to 10):\n",
      "Odd number: 1\n",
      "Odd number: 3\n",
      "Breaking loop at: 4\n"
     ]
    }
   ],
   "source": [
    "num = int(input(\"Enter a number between 1 and 5: \"))\n",
    "\n",
    "# IF statement\n",
    "if num % 2 == 0:\n",
    "    print(num, \"is Even\")\n",
    "else:\n",
    "    print(num, \"is Odd\")\n",
    "\n",
    "#MATCH statement\n",
    "match num:\n",
    "    case 1:\n",
    "        print(\"Number is ONE\")\n",
    "    case 2:\n",
    "        print(\"Number is TWO\")\n",
    "    case 3:\n",
    "        print(\"Number is THREE\")\n",
    "    case 4:\n",
    "        print(\"Number is FOUR\")\n",
    "    case 5:\n",
    "        print(\"Number is FIVE\")\n",
    "    case _:\n",
    "        print(\"Invalid choice!\")\n",
    "\n",
    "#BREAK and CONTINUE in loop\n",
    "print(\"\\nLoop demonstration (1 to 10):\")\n",
    "for i in range(1, 11):\n",
    "    if i == num:\n",
    "        print(\"Breaking loop at:\", i)\n",
    "        break        \n",
    "    if i % 2 == 0:\n",
    "        continue     \n",
    "    print(\"Odd number:\", i)\n"
   ]
  },
  {
   "cell_type": "markdown",
   "id": "f6c217e1-bc31-4846-b323-80b8345fac0c",
   "metadata": {},
   "source": [
    "<h2>5.Write program to utilize different loop statements to solve meaning ful problems.</h2>"
   ]
  },
  {
   "cell_type": "code",
   "execution_count": 4,
   "id": "71d6c6d9-8abf-4817-850a-f7ba68958ed6",
   "metadata": {},
   "outputs": [
    {
     "name": "stdout",
     "output_type": "stream",
     "text": [
      "1.Sum of first 10 natural numbers: 55\n",
      "2.Reverse of 12345 is 54321\n",
      "\n",
      "3.Multiplication Table (1 to 5):\n",
      "1\t2\t3\t4\t5\t\n",
      "2\t4\t6\t8\t10\t\n",
      "3\t6\t9\t12\t15\t\n",
      "4\t8\t12\t16\t20\t\n",
      "5\t10\t15\t20\t25\t\n",
      "\n",
      "4.Smallest divisor of 91 is 7\n",
      "\n",
      "5.Odd numbers between 1 and 20:\n",
      "1 3 5 7 9 11 13 15 17 19 "
     ]
    }
   ],
   "source": [
    "#FOR loop\n",
    "total = 0\n",
    "for i in range(1, 11):\n",
    "    total += i\n",
    "print(\"1.Sum of first 10 natural numbers:\", total)\n",
    "\n",
    "# WHILE loop \n",
    "num = 12345\n",
    "rev = 0\n",
    "n = num\n",
    "while n > 0:\n",
    "    digit = n % 10\n",
    "    rev = rev * 10 + digit\n",
    "    n //= 10\n",
    "print(\"2.Reverse of\", num, \"is\", rev)\n",
    "\n",
    "#Nested FOR loops \n",
    "print(\"\\n3.Multiplication Table (1 to 5):\")\n",
    "for i in range(1, 6):\n",
    "    for j in range(1, 6):\n",
    "        print(i * j, end=\"\\t\")\n",
    "    print()\n",
    "\n",
    "#WHILE loop with break \n",
    "n = 91\n",
    "divisor = 2\n",
    "while divisor <= n:\n",
    "    if n % divisor == 0:\n",
    "        print(\"\\n4.Smallest divisor of\", n, \"is\", divisor)\n",
    "        break\n",
    "    divisor += 1\n",
    "\n",
    "#FOR loop with continue\n",
    "print(\"\\n5.Odd numbers between 1 and 20:\")\n",
    "for i in range(1, 21):\n",
    "    if i % 2 == 0:\n",
    "        continue\n",
    "    print(i, end=\" \")"
   ]
  },
  {
   "cell_type": "markdown",
   "id": "6d1cfb34-fbfe-4dd6-831f-085b1e687fd1",
   "metadata": {},
   "source": [
    "<h2>6.Write program to demonstrate input validation using loop.</h2>"
   ]
  },
  {
   "cell_type": "code",
   "execution_count": 5,
   "id": "b3b845a1-db38-4f65-9c2e-fe0c9b8f05f2",
   "metadata": {},
   "outputs": [
    {
     "name": "stdin",
     "output_type": "stream",
     "text": [
      "Enter a number between 1 and 10:  4\n"
     ]
    },
    {
     "name": "stdout",
     "output_type": "stream",
     "text": [
      "Thank you! You entered: 4\n"
     ]
    }
   ],
   "source": [
    "while True:\n",
    "    try:\n",
    "        num = int(input(\"Enter a number between 1 and 10: \"))\n",
    "        if 1 <= num <= 10:\n",
    "            print(\"Thank you! You entered:\", num)\n",
    "            break   # exit loop if input is valid\n",
    "        else:\n",
    "            print(\"Invalid input. Number not in range 1-10. Try again.\")\n",
    "    except ValueError:\n",
    "        print(\"Invalid input. Please enter an integer.\")\n"
   ]
  },
  {
   "cell_type": "markdown",
   "id": "2899bc4e-f8a8-4de6-9fe2-2e1ea4d3a7ac",
   "metadata": {},
   "source": [
    "<h2>7.Write program to create different patterns using nested loop.</h2>"
   ]
  },
  {
   "cell_type": "code",
   "execution_count": 9,
   "id": "95d69583-175c-4ca1-b066-63a4a128f540",
   "metadata": {},
   "outputs": [
    {
     "name": "stdout",
     "output_type": "stream",
     "text": [
      "1. Right-angled Triangle:\n",
      "* \n",
      "* * \n",
      "* * * \n",
      "* * * * \n",
      "* * * * * \n"
     ]
    }
   ],
   "source": [
    "n = 5  \n",
    "\n",
    "# 1. Right-angled triangle pattern\n",
    "print(\"1. Right-angled Triangle:\")\n",
    "for i in range(1, n+1):\n",
    "    print(\"* \" * i)"
   ]
  },
  {
   "cell_type": "code",
   "execution_count": 10,
   "id": "f25861e1-45fa-40a2-b5fb-869029fe1237",
   "metadata": {},
   "outputs": [
    {
     "name": "stdout",
     "output_type": "stream",
     "text": [
      "\n",
      "2. Inverted Right-angled Triangle:\n",
      "* * * * * \n",
      "* * * * \n",
      "* * * \n",
      "* * \n",
      "* \n"
     ]
    }
   ],
   "source": [
    "# 2. Inverted right-angled triangle\n",
    "print(\"\\n2. Inverted Right-angled Triangle:\")\n",
    "for i in range(n, 0, -1):\n",
    "    print(\"* \" * i)"
   ]
  },
  {
   "cell_type": "code",
   "execution_count": 11,
   "id": "ab86a1d2-c699-4d4a-bc23-d82287c88fbd",
   "metadata": {},
   "outputs": [
    {
     "name": "stdout",
     "output_type": "stream",
     "text": [
      "\n",
      "3. Pyramid Pattern:\n",
      "    * \n",
      "   * * \n",
      "  * * * \n",
      " * * * * \n",
      "* * * * * \n"
     ]
    }
   ],
   "source": [
    "# 3. Pyramid pattern\n",
    "print(\"\\n3. Pyramid Pattern:\")\n",
    "for i in range(1, n+1):\n",
    "    print(\" \" * (n-i) + \"* \" * i)"
   ]
  },
  {
   "cell_type": "code",
   "execution_count": 12,
   "id": "8766dd03-6029-408f-aa17-25a2ac8f2e58",
   "metadata": {},
   "outputs": [
    {
     "name": "stdout",
     "output_type": "stream",
     "text": [
      "\n",
      "4. Inverted Pyramid Pattern:\n",
      "* * * * * \n",
      " * * * * \n",
      "  * * * \n",
      "   * * \n",
      "    * \n"
     ]
    }
   ],
   "source": [
    "# 4. Inverted pyramid\n",
    "print(\"\\n4. Inverted Pyramid Pattern:\")\n",
    "for i in range(n, 0, -1):\n",
    "    print(\" \" * (n-i) + \"* \" * i)"
   ]
  },
  {
   "cell_type": "code",
   "execution_count": 13,
   "id": "f1fc1c00-0c72-4bba-923d-3bfef25ab1db",
   "metadata": {},
   "outputs": [
    {
     "name": "stdout",
     "output_type": "stream",
     "text": [
      "\n",
      "5. Number Triangle:\n",
      "1 \n",
      "1 2 \n",
      "1 2 3 \n",
      "1 2 3 4 \n",
      "1 2 3 4 5 \n"
     ]
    }
   ],
   "source": [
    "# 5. Number triangle pattern\n",
    "print(\"\\n5. Number Triangle:\")\n",
    "for i in range(1, n+1):\n",
    "    for j in range(1, i+1):\n",
    "        print(j, end=\" \")\n",
    "    print()"
   ]
  },
  {
   "cell_type": "code",
   "execution_count": 14,
   "id": "fab45f85-dcf4-4033-83e7-82ff9d1f7b20",
   "metadata": {},
   "outputs": [
    {
     "name": "stdout",
     "output_type": "stream",
     "text": [
      "\n",
      "6. Diamond Pattern:\n",
      "    * \n",
      "   * * \n",
      "  * * * \n",
      " * * * * \n",
      "* * * * * \n",
      " * * * * \n",
      "  * * * \n",
      "   * * \n",
      "    * \n"
     ]
    }
   ],
   "source": [
    "# 6. Diamond pattern\n",
    "print(\"\\n6. Diamond Pattern:\")\n",
    "# Upper part\n",
    "for i in range(1, n+1):\n",
    "    print(\" \" * (n-i) + \"* \" * i)\n",
    "# Lower part\n",
    "for i in range(n-1, 0, -1):\n",
    "    print(\" \" * (n-i) + \"* \" * i)\n"
   ]
  },
  {
   "cell_type": "markdown",
   "id": "523f0efb-10dd-4e61-8af6-5267d19961b6",
   "metadata": {},
   "source": [
    "<h2>8.Write program to make use of infinite loop.</h2>"
   ]
  },
  {
   "cell_type": "code",
   "execution_count": 6,
   "id": "b8ac2402-08ff-4970-b54a-0ae6300844ab",
   "metadata": {},
   "outputs": [
    {
     "name": "stdout",
     "output_type": "stream",
     "text": [
      "This program keeps asking for a number until you enter 0 to exit.\n"
     ]
    },
    {
     "name": "stdin",
     "output_type": "stream",
     "text": [
      "Enter a number (0 to exit):  5\n"
     ]
    },
    {
     "name": "stdout",
     "output_type": "stream",
     "text": [
      "You entered: 5\n"
     ]
    },
    {
     "name": "stdin",
     "output_type": "stream",
     "text": [
      "Enter a number (0 to exit):  6\n"
     ]
    },
    {
     "name": "stdout",
     "output_type": "stream",
     "text": [
      "You entered: 6\n"
     ]
    },
    {
     "name": "stdin",
     "output_type": "stream",
     "text": [
      "Enter a number (0 to exit):  0\n"
     ]
    },
    {
     "name": "stdout",
     "output_type": "stream",
     "text": [
      "Exiting the loop. Goodbye!\n"
     ]
    }
   ],
   "source": [
    "print(\"This program keeps asking for a number until you enter 0 to exit.\")\n",
    "\n",
    "while True:  # Infinite loop\n",
    "    num = int(input(\"Enter a number (0 to exit): \"))\n",
    "    \n",
    "    if num == 0:\n",
    "        print(\"Exiting the loop. Goodbye!\")\n",
    "        break   # Exit the loop\n",
    "    \n",
    "    print(\"You entered:\", num)\n"
   ]
  },
  {
   "cell_type": "markdown",
   "id": "f8be3688-8e3c-4d32-8613-e551dab05e28",
   "metadata": {},
   "source": [
    "<h2>9.Write program to create list, add elements in list, removeelementsfrom list and displaylist items.</h2>"
   ]
  },
  {
   "cell_type": "markdown",
   "id": "ff4fb316-6d1d-4b38-9824-692f0817de93",
   "metadata": {},
   "source": [
    "<h3>1.Create a list</h3>"
   ]
  },
  {
   "cell_type": "code",
   "execution_count": 7,
   "id": "f0c8a66f-7957-43d6-ab6b-4071f883cd97",
   "metadata": {},
   "outputs": [
    {
     "name": "stdout",
     "output_type": "stream",
     "text": [
      "List with initial elements: ['Apple', 'Banana', 'Cherry']\n"
     ]
    }
   ],
   "source": [
    "fruits = [\"Apple\", \"Banana\", \"Cherry\"]\n",
    "print(\"List with initial elements:\", fruits)\n"
   ]
  },
  {
   "cell_type": "markdown",
   "id": "236d23d3-a3ea-4112-9bae-f961f7bc45a8",
   "metadata": {},
   "source": [
    "<h3>2.Add elements to a list</h3>"
   ]
  },
  {
   "cell_type": "code",
   "execution_count": 18,
   "id": "5176c9ab-5b80-44b8-8f63-20c33e3e31d4",
   "metadata": {},
   "outputs": [
    {
     "name": "stdout",
     "output_type": "stream",
     "text": [
      "After appending 'Cherry': ['Apple', 'Banana', 'Cherry']\n",
      "After extending list: ['Apple', 'Banana', 'Cherry', 'Dates', 'Elderberry']\n",
      "After inserting 'Blueberry' at index 1: ['Apple', 'Blueberry', 'Banana', 'Cherry', 'Dates', 'Elderberry']\n"
     ]
    }
   ],
   "source": [
    "fruits = [\"Apple\", \"Banana\"]\n",
    "\n",
    "# Add a single element\n",
    "fruits.append(\"Cherry\")\n",
    "print(\"After appending 'Cherry':\", fruits)\n",
    "\n",
    "# Add multiple elements\n",
    "fruits.extend([\"Dates\", \"Elderberry\"])\n",
    "print(\"After extending list:\", fruits)\n",
    "\n",
    "# Insert element at specific position\n",
    "fruits.insert(1, \"Blueberry\")\n",
    "print(\"After inserting 'Blueberry' at index 1:\", fruits)"
   ]
  },
  {
   "cell_type": "markdown",
   "id": "660dbf42-b168-4842-9701-b0a9fcba9d41",
   "metadata": {},
   "source": [
    "<h3>3.Remove elements from a list</h3>"
   ]
  },
  {
   "cell_type": "code",
   "execution_count": 19,
   "id": "2f0162c9-1b96-4a36-84d3-a5323ba72ccf",
   "metadata": {},
   "outputs": [
    {
     "name": "stdout",
     "output_type": "stream",
     "text": [
      "After removing 'Banana': ['Apple', 'Blueberry', 'Cherry', 'Dates']\n",
      "Removed item at index 2: Cherry\n",
      "List after pop operation: ['Apple', 'Blueberry', 'Dates']\n",
      "Removed last item: Dates\n",
      "List now: ['Apple', 'Blueberry']\n"
     ]
    }
   ],
   "source": [
    "fruits = [\"Apple\", \"Blueberry\", \"Banana\", \"Cherry\", \"Dates\"]\n",
    "\n",
    "# Remove by value\n",
    "fruits.remove(\"Banana\")\n",
    "print(\"After removing 'Banana':\", fruits)\n",
    "\n",
    "# Remove by index using pop\n",
    "removed_item = fruits.pop(2)\n",
    "print(f\"Removed item at index 2: {removed_item}\")\n",
    "print(\"List after pop operation:\", fruits)\n",
    "\n",
    "# Remove last item\n",
    "last_item = fruits.pop()\n",
    "print(f\"Removed last item: {last_item}\")\n",
    "print(\"List now:\", fruits)\n"
   ]
  },
  {
   "cell_type": "markdown",
   "id": "bf8fca77-b111-4c9b-ad43-38658abdc5c4",
   "metadata": {},
   "source": [
    "<h3>4.Display list items</h3>"
   ]
  },
  {
   "cell_type": "code",
   "execution_count": 20,
   "id": "8d1dc9db-249b-4e29-81bc-ff884df05a8c",
   "metadata": {},
   "outputs": [
    {
     "name": "stdout",
     "output_type": "stream",
     "text": [
      "Displaying all list items:\n",
      "Apple\n",
      "Blueberry\n",
      "Cherry\n"
     ]
    }
   ],
   "source": [
    "fruits = [\"Apple\", \"Blueberry\", \"Cherry\"]\n",
    "\n",
    "print(\"Displaying all list items:\")\n",
    "for item in fruits:\n",
    "    print(item)\n"
   ]
  },
  {
   "cell_type": "markdown",
   "id": "56e29da8-c628-4b97-9a43-8da1b339499c",
   "metadata": {},
   "source": [
    "<h2>10.Write program to make use of list slicing concept to display elements of list.</h2>"
   ]
  },
  {
   "cell_type": "code",
   "execution_count": 23,
   "id": "0b20eada-a3d2-467c-82d5-2926ed3e80b8",
   "metadata": {},
   "outputs": [
    {
     "name": "stdout",
     "output_type": "stream",
     "text": [
      "Original List: ['Apple', 'Banana', 'Cherry', 'Dates', 'Elderberry', 'Fig', 'Grapes']\n",
      "1.First 3 elements: ['Apple', 'Banana', 'Cherry']\n",
      "2.Elements from index 2 to 4: ['Cherry', 'Dates', 'Elderberry']\n",
      "3.Elements from start to index 4: ['Apple', 'Banana', 'Cherry', 'Dates', 'Elderberry']\n",
      "4.Elements from index 3 to end: ['Dates', 'Elderberry', 'Fig', 'Grapes']\n",
      "5.Every 2nd element: ['Apple', 'Cherry', 'Elderberry', 'Grapes']\n",
      "6.Reversed List: ['Grapes', 'Fig', 'Elderberry', 'Dates', 'Cherry', 'Banana', 'Apple']\n"
     ]
    }
   ],
   "source": [
    "fruits = [\"Apple\", \"Banana\", \"Cherry\", \"Dates\", \"Elderberry\", \"Fig\", \"Grapes\"]\n",
    "print(\"Original List:\", fruits)\n",
    "\n",
    "# 1. Slice first 3 elements\n",
    "print(\"1.First 3 elements:\", fruits[0:3])\n",
    "\n",
    "# 2. Slice from index 2 to 5\n",
    "print(\"2.Elements from index 2 to 4:\", fruits[2:5])\n",
    "\n",
    "# 3. Slice from beginning to index 4\n",
    "print(\"3.Elements from start to index 4:\", fruits[:5])\n",
    "\n",
    "# 4. Slice from index 3 to end\n",
    "print(\"4.Elements from index 3 to end:\", fruits[3:])\n",
    "\n",
    "# 5. Slice with step 2 (every 2nd element)\n",
    "print(\"5.Every 2nd element:\", fruits[::2])\n",
    "\n",
    "# 6. Reverse the list using slicing\n",
    "print(\"6.Reversed List:\", fruits[::-1])\n"
   ]
  },
  {
   "cell_type": "markdown",
   "id": "98414182-2548-4063-9c67-304f1fb27387",
   "metadata": {},
   "source": [
    "<h2>11.Write program to elaborate different list methods.</h2>"
   ]
  },
  {
   "cell_type": "markdown",
   "id": "102a4679-b9e7-42b1-8478-e5b22b1b25fe",
   "metadata": {},
   "source": [
    "<h3>1.Append() and Extend()</h3>"
   ]
  },
  {
   "cell_type": "code",
   "execution_count": 25,
   "id": "9870834c-9939-4746-9d2b-796ba46e92af",
   "metadata": {},
   "outputs": [
    {
     "name": "stdout",
     "output_type": "stream",
     "text": [
      "After append: ['Apple', 'Banana', 'Cherry']\n",
      "After extend: ['Apple', 'Banana', 'Cherry', 'Dates', 'Elderberry']\n"
     ]
    }
   ],
   "source": [
    "fruits = [\"Apple\", \"Banana\"]\n",
    "\n",
    "fruits.append(\"Cherry\")\n",
    "print(\"After append:\", fruits)\n",
    "\n",
    "fruits.extend([\"Dates\", \"Elderberry\"])\n",
    "print(\"After extend:\", fruits)\n"
   ]
  },
  {
   "cell_type": "markdown",
   "id": "e68fa715-f9cf-4121-baaf-564840eb9305",
   "metadata": {},
   "source": [
    "<h3>2.Insert()</h3>"
   ]
  },
  {
   "cell_type": "code",
   "execution_count": 26,
   "id": "e022b928-4c01-4004-bdc7-7137148f9e34",
   "metadata": {},
   "outputs": [
    {
     "name": "stdout",
     "output_type": "stream",
     "text": [
      "After insert at index 1: ['Apple', 'Blueberry', 'Banana', 'Cherry']\n"
     ]
    }
   ],
   "source": [
    "fruits = [\"Apple\", \"Banana\", \"Cherry\"]\n",
    "\n",
    "fruits.insert(1, \"Blueberry\")\n",
    "print(\"After insert at index 1:\", fruits)\n"
   ]
  },
  {
   "cell_type": "markdown",
   "id": "24d3a700-85cd-4858-931a-629b610b6020",
   "metadata": {},
   "source": [
    "<h3>3.Remove() and Pop()</h3>"
   ]
  },
  {
   "cell_type": "code",
   "execution_count": 27,
   "id": "7720fff0-5fef-46b6-b610-1b5563d7f060",
   "metadata": {},
   "outputs": [
    {
     "name": "stdout",
     "output_type": "stream",
     "text": [
      "After remove 'Blueberry': ['Apple', 'Cherry', 'Dates']\n",
      "Popped item: Dates\n",
      "After pop: ['Apple', 'Cherry']\n"
     ]
    }
   ],
   "source": [
    "fruits = [\"Apple\", \"Blueberry\", \"Cherry\", \"Dates\"]\n",
    "\n",
    "fruits.remove(\"Blueberry\")\n",
    "print(\"After remove 'Blueberry':\", fruits)\n",
    "\n",
    "popped_item = fruits.pop()\n",
    "print(\"Popped item:\", popped_item)\n",
    "print(\"After pop:\", fruits)\n"
   ]
  },
  {
   "cell_type": "markdown",
   "id": "716f1f87-584c-4534-a282-0bf5017db312",
   "metadata": {},
   "source": [
    "<h3>4.Index() and Count()</h3>"
   ]
  },
  {
   "cell_type": "code",
   "execution_count": 28,
   "id": "8d5184d7-c103-4ab4-9df0-d26d1f61b83b",
   "metadata": {},
   "outputs": [
    {
     "name": "stdout",
     "output_type": "stream",
     "text": [
      "Index of 'Cherry': 1\n",
      "Count of 'Apple': 2\n"
     ]
    }
   ],
   "source": [
    "fruits = [\"Apple\", \"Cherry\", \"Apple\", \"Dates\"]\n",
    "\n",
    "print(\"Index of 'Cherry':\", fruits.index(\"Cherry\"))\n",
    "\n",
    "print(\"Count of 'Apple':\", fruits.count(\"Apple\"))\n"
   ]
  },
  {
   "cell_type": "markdown",
   "id": "a4f9a4e3-40ac-4568-a5ce-dec6deef4769",
   "metadata": {},
   "source": [
    "<h3>5.Sort(), Reverse(), Clear()</h3>"
   ]
  },
  {
   "cell_type": "code",
   "execution_count": 30,
   "id": "b7bb7a51-5bde-4d49-b206-f70fc7f6f5f5",
   "metadata": {},
   "outputs": [
    {
     "name": "stdout",
     "output_type": "stream",
     "text": [
      "Sorted list: ['Apple', 'Banana', 'Cherry', 'Dates']\n",
      "Reversed list: ['Dates', 'Cherry', 'Banana', 'Apple']\n",
      "After clear: []\n"
     ]
    }
   ],
   "source": [
    "fruits = [\"Banana\", \"Apple\", \"Dates\", \"Cherry\"]\n",
    "\n",
    "fruits.sort()\n",
    "print(\"Sorted list:\", fruits)\n",
    "\n",
    "fruits.reverse()\n",
    "print(\"Reversed list:\", fruits)\n",
    "\n",
    "fruits.clear()\n",
    "print(\"After clear:\", fruits)"
   ]
  },
  {
   "cell_type": "markdown",
   "id": "f3a9acae-2656-435e-b1e7-5066e63306ae",
   "metadata": {},
   "source": [
    "<h2>12.Write program to apply list comprehension.</h2>"
   ]
  },
  {
   "cell_type": "markdown",
   "id": "7408dbc8-f7ef-4472-bbc9-00a3d951d038",
   "metadata": {},
   "source": [
    "<h3>Demonstrating List Comprehension</h3>"
   ]
  },
  {
   "cell_type": "code",
   "execution_count": 8,
   "id": "f94fbbd1-1e51-4fd1-aa99-e181d94e8d16",
   "metadata": {},
   "outputs": [
    {
     "name": "stdout",
     "output_type": "stream",
     "text": [
      "1.Numbers from 1 to 10: [1, 2, 3, 4, 5, 6, 7, 8, 9, 10]\n",
      "2.Squares of numbers: [1, 4, 9, 16, 25, 36, 49, 64, 81, 100]\n",
      "3.Even numbers from 1 to 20: [2, 4, 6, 8, 10, 12, 14, 16, 18, 20]\n",
      "4.Fruits in uppercase: ['APPLE', 'BANANA', 'CHERRY']\n",
      "5.3x3 Matrix using nested list comprehension:\n",
      "[1, 2, 3]\n",
      "[2, 4, 6]\n",
      "[3, 6, 9]\n"
     ]
    }
   ],
   "source": [
    "# 1. list of numbers from 1 to 10\n",
    "numbers = [i for i in range(1, 11)]\n",
    "print(\"1.Numbers from 1 to 10:\", numbers)\n",
    "\n",
    "# 2.  list of squares of numbers from 1 to 10\n",
    "squares = [i**2 for i in range(1, 11)]\n",
    "print(\"2.Squares of numbers:\", squares)\n",
    "\n",
    "# 3. list of even numbers from 1 to 20\n",
    "evens = [i for i in range(1, 21) if i % 2 == 0]\n",
    "print(\"3.Even numbers from 1 to 20:\", evens)\n",
    "\n",
    "# 4.  list of strings in uppercase\n",
    "fruits = [\"apple\", \"banana\", \"cherry\"]\n",
    "upper_fruits = [fruit.upper() for fruit in fruits]\n",
    "print(\"4.Fruits in uppercase:\", upper_fruits)\n",
    "\n",
    "# 5. Nested list comprehension → create a 3x3 matrix\n",
    "matrix = [[i*j for j in range(1, 4)] for i in range(1, 4)]\n",
    "print(\"5.3x3 Matrix using nested list comprehension:\")\n",
    "for row in matrix:\n",
    "    print(row)\n"
   ]
  },
  {
   "cell_type": "markdown",
   "id": "05e0cef0-9a9b-4398-af98-73b65dd28aa4",
   "metadata": {},
   "source": [
    "<h2>13.Write program to illustrate two-dimensional list.</h2>"
   ]
  },
  {
   "cell_type": "code",
   "execution_count": 36,
   "id": "0662b503-cedd-4349-9c64-ef5d8e6230ee",
   "metadata": {},
   "outputs": [
    {
     "name": "stdout",
     "output_type": "stream",
     "text": [
      "1.Numbers from 1 to 10: [1, 2, 3, 4, 5, 6, 7, 8, 9, 10]\n",
      "2.Squares of numbers: [1, 4, 9, 16, 25, 36, 49, 64, 81, 100]\n",
      "3.Even numbers from 1 to 20: [2, 4, 6, 8, 10, 12, 14, 16, 18, 20]\n",
      "4.Fruits in uppercase: ['APPLE', 'BANANA', 'CHERRY']\n",
      "5.3x3 Matrix using nested list comprehension:\n",
      "[1, 2, 3]\n",
      "[2, 4, 6]\n",
      "[3, 6, 9]\n"
     ]
    }
   ],
   "source": [
    "# 1. Create a list of numbers from 1 to 10\n",
    "numbers = [i for i in range(1, 11)]\n",
    "print(\"1.Numbers from 1 to 10:\", numbers)\n",
    "\n",
    "# 2. Create a list of squares of numbers from 1 to 10\n",
    "squares = [i**2 for i in range(1, 11)]\n",
    "print(\"2.Squares of numbers:\", squares)\n",
    "\n",
    "# 3. Create a list of even numbers from 1 to 20\n",
    "evens = [i for i in range(1, 21) if i % 2 == 0]\n",
    "print(\"3.Even numbers from 1 to 20:\", evens)\n",
    "\n",
    "# 4. Create a list of strings in uppercase\n",
    "fruits = [\"apple\", \"banana\", \"cherry\"]\n",
    "upper_fruits = [fruit.upper() for fruit in fruits]\n",
    "print(\"4.Fruits in uppercase:\", upper_fruits)\n",
    "\n",
    "# 5. Nested list comprehension → create a 3x3 matrix\n",
    "matrix = [[i*j for j in range(1, 4)] for i in range(1, 4)]\n",
    "print(\"5.3x3 Matrix using nested list comprehension:\")\n",
    "for row in matrix:\n",
    "    print(row)\n"
   ]
  },
  {
   "cell_type": "markdown",
   "id": "1cfc32d1-c43b-4d35-aa71-780db0f51753",
   "metadata": {},
   "source": [
    "<h2>14.Write program to create tuple, add elements in tuple, remove elements from tuple and display tuple items. </h2>"
   ]
  },
  {
   "cell_type": "markdown",
   "id": "93ad2638-d8dc-4a48-a60f-dd3ebc72b11c",
   "metadata": {},
   "source": [
    "<h3>1.Create a tuple</h3>"
   ]
  },
  {
   "cell_type": "code",
   "execution_count": 38,
   "id": "710dc803-5160-42b3-b8b8-35308651b2c0",
   "metadata": {},
   "outputs": [
    {
     "name": "stdout",
     "output_type": "stream",
     "text": [
      "Original tuple: ('Apple', 'Banana', 'Cherry')\n"
     ]
    }
   ],
   "source": [
    "fruits = (\"Apple\", \"Banana\", \"Cherry\")\n",
    "print(\"Original tuple:\", fruits)"
   ]
  },
  {
   "cell_type": "markdown",
   "id": "40d1bfd5-d3c8-470d-82b8-6148ba0b4964",
   "metadata": {},
   "source": [
    "<h3>2.Add elements to a tuple</h3>"
   ]
  },
  {
   "cell_type": "code",
   "execution_count": 40,
   "id": "9ce6e3bb-27f9-413f-8a0d-81cca18c420c",
   "metadata": {},
   "outputs": [
    {
     "name": "stdout",
     "output_type": "stream",
     "text": [
      "Tuple after adding elements: ('Apple', 'Banana', 'Cherry', 'Dates', 'Elderberry', 'Fig')\n"
     ]
    }
   ],
   "source": [
    "fruits = (\"Apple\", \"Banana\", \"Cherry\")\n",
    "\n",
    "fruits_list = list(fruits)\n",
    "fruits_list.append(\"Dates\")  # Add single element\n",
    "fruits_list.extend([\"Elderberry\", \"Fig\"])  # Add multiple elements\n",
    "\n",
    "fruits = tuple(fruits_list)\n",
    "print(\"Tuple after adding elements:\", fruits)\n"
   ]
  },
  {
   "cell_type": "markdown",
   "id": "124211ca-04c4-4b0f-b6bd-5a5d5027c5f7",
   "metadata": {},
   "source": [
    "<h3>3.Remove elements from a tuple</h3>"
   ]
  },
  {
   "cell_type": "code",
   "execution_count": 41,
   "id": "0bf9be5c-b363-403e-8c23-54e5758ab9c5",
   "metadata": {},
   "outputs": [
    {
     "name": "stdout",
     "output_type": "stream",
     "text": [
      "Tuple after removing 'Banana': ('Apple', 'Cherry', 'Dates', 'Elderberry')\n"
     ]
    }
   ],
   "source": [
    "fruits = (\"Apple\", \"Banana\", \"Cherry\", \"Dates\", \"Elderberry\")\n",
    "\n",
    "fruits_list = list(fruits)\n",
    "fruits_list.remove(\"Banana\")  # Remove by value\n",
    "\n",
    "fruits = tuple(fruits_list)\n",
    "print(\"Tuple after removing 'Banana':\", fruits)\n"
   ]
  },
  {
   "cell_type": "markdown",
   "id": "54b05420-3f0c-41d2-93d2-98697f64cbf4",
   "metadata": {},
   "source": [
    "<h2>4.Display tuple items</h2>"
   ]
  },
  {
   "cell_type": "code",
   "execution_count": 42,
   "id": "471aac06-3c5c-4e0c-b851-5eb60f64d376",
   "metadata": {},
   "outputs": [
    {
     "name": "stdout",
     "output_type": "stream",
     "text": [
      "Displaying all tuple items:\n",
      "Apple\n",
      "Cherry\n",
      "Dates\n",
      "Elderberry\n"
     ]
    }
   ],
   "source": [
    "fruits = (\"Apple\", \"Cherry\", \"Dates\", \"Elderberry\")\n",
    "\n",
    "print(\"Displaying all tuple items:\")\n",
    "for item in fruits:\n",
    "    print(item)\n"
   ]
  },
  {
   "cell_type": "markdown",
   "id": "87ff7bbc-248f-4b47-bdb6-ffc10114e7dd",
   "metadata": {},
   "source": [
    "<h2>15.Write program to create dictionary, add elements in dictionary, remove elements from dictionary and display dictionary items. </h2>"
   ]
  },
  {
   "cell_type": "markdown",
   "id": "0896f4a2-6538-4cbe-b163-10d312caa079",
   "metadata": {},
   "source": [
    "<h3>1.Create a dictionary</h3>"
   ]
  },
  {
   "cell_type": "code",
   "execution_count": 3,
   "id": "8cb16783-e2db-4851-8261-4b765432ab71",
   "metadata": {},
   "outputs": [
    {
     "name": "stdout",
     "output_type": "stream",
     "text": [
      "Original Dictionary: {'name': 'Sabita', 'age': 23, 'grade': 'A'}\n"
     ]
    }
   ],
   "source": [
    "student = {\"name\": \"Sabita\", \"age\": 23, \"grade\": \"A\"}\n",
    "print(\"Original Dictionary:\", student)"
   ]
  },
  {
   "cell_type": "markdown",
   "id": "507c454d-9ef1-4306-b13b-2d86f30f87a6",
   "metadata": {},
   "source": [
    "<h3>2.Add elements to a dictionary</h3>"
   ]
  },
  {
   "cell_type": "code",
   "execution_count": 4,
   "id": "890f4d32-d03d-4d9c-974d-f5aa69325dbf",
   "metadata": {},
   "outputs": [
    {
     "name": "stdout",
     "output_type": "stream",
     "text": [
      "Dictionary after adding elements: {'name': 'Sabita', 'age': 23, 'grade': 'A', 'roll_no': 101, 'section': 'B'}\n"
     ]
    }
   ],
   "source": [
    "student = {\"name\": \"Sabita\", \"age\": 23}\n",
    "\n",
    "# Add a single element\n",
    "student[\"grade\"] = \"A\"\n",
    "\n",
    "# Add multiple elements using update()\n",
    "student.update({\"roll_no\": 101, \"section\": \"B\"})\n",
    "print(\"Dictionary after adding elements:\", student)\n"
   ]
  },
  {
   "cell_type": "markdown",
   "id": "43ce8864-62dc-4250-99da-6dec78e0e3c8",
   "metadata": {},
   "source": [
    "<h3>3.Remove elements from a dictionary</h3>"
   ]
  },
  {
   "cell_type": "code",
   "execution_count": 6,
   "id": "d59bd772-3ba1-4452-98a0-fc7f45281306",
   "metadata": {},
   "outputs": [
    {
     "name": "stdout",
     "output_type": "stream",
     "text": [
      "Removed value: 23\n",
      "Dictionary after pop: {'name': 'Sabita', 'grade': 'A', 'roll_no': 100}\n",
      "Last removed item: ('roll_no', 100)\n",
      "Dictionary now: {'name': 'Sabita', 'grade': 'A'}\n"
     ]
    }
   ],
   "source": [
    "student = {\"name\": \"Sabita\", \"age\": 23, \"grade\": \"A\", \"roll_no\": 100}\n",
    "\n",
    "# Remove by key using pop()\n",
    "removed_value = student.pop(\"age\")\n",
    "print(\"Removed value:\", removed_value)\n",
    "print(\"Dictionary after pop:\", student)\n",
    "\n",
    "# Remove last inserted item using popitem()\n",
    "last_item = student.popitem()\n",
    "print(\"Last removed item:\", last_item)\n",
    "print(\"Dictionary now:\", student)\n"
   ]
  },
  {
   "cell_type": "markdown",
   "id": "a391f9ad-343d-490d-8e24-58597d03fd7b",
   "metadata": {},
   "source": [
    "<h3>4.Display dictionary items</h3>"
   ]
  },
  {
   "cell_type": "code",
   "execution_count": 7,
   "id": "8829c42c-4601-4025-a210-52ef8ee55642",
   "metadata": {},
   "outputs": [
    {
     "name": "stdout",
     "output_type": "stream",
     "text": [
      "Displaying all dictionary items:\n",
      "name : Sabita\n",
      "grade : A\n",
      "roll_no : 100\n"
     ]
    }
   ],
   "source": [
    "student = {\"name\": \"Sabita\", \"grade\": \"A\", \"roll_no\": 100}\n",
    "\n",
    "print(\"Displaying all dictionary items:\")\n",
    "for key, value in student.items():\n",
    "    print(f\"{key} : {value}\")\n"
   ]
  },
  {
   "cell_type": "markdown",
   "id": "ca8227df-3d79-407a-93ef-f684457be681",
   "metadata": {},
   "source": [
    "<h2>16.Write program to create set, add elements in set, remove elements from set and display set items</h2>"
   ]
  },
  {
   "cell_type": "markdown",
   "id": "55a2d9de-e621-425b-863b-621417a08c0d",
   "metadata": {},
   "source": [
    "<h3>1.Creating a set</h3>"
   ]
  },
  {
   "cell_type": "code",
   "execution_count": 5,
   "id": "211011b1-200d-4434-8734-f9a442b977db",
   "metadata": {},
   "outputs": [
    {
     "name": "stdout",
     "output_type": "stream",
     "text": [
      "Initial Set: {1, 2, 3, 4, 5}\n"
     ]
    }
   ],
   "source": [
    "my_set = {1, 2, 3, 4, 5}\n",
    "print(\"Initial Set:\", my_set)\n"
   ]
  },
  {
   "cell_type": "markdown",
   "id": "0f2669ad-e0c0-4324-9f6b-1fd44154b28e",
   "metadata": {},
   "source": [
    "<h3>2.Adding elements to a set</h3>"
   ]
  },
  {
   "cell_type": "code",
   "execution_count": 6,
   "id": "f63405b9-5767-4df0-b76f-33884ed039aa",
   "metadata": {},
   "outputs": [
    {
     "name": "stdout",
     "output_type": "stream",
     "text": [
      "Before adding: {10, 20, 30}\n",
      "After adding: {40, 10, 50, 20, 60, 30}\n"
     ]
    }
   ],
   "source": [
    "my_set = {10, 20, 30}\n",
    "print(\"Before adding:\", my_set)\n",
    "\n",
    "my_set.add(40)          \n",
    "my_set.update([50, 60]) \n",
    "\n",
    "print(\"After adding:\", my_set)\n"
   ]
  },
  {
   "cell_type": "markdown",
   "id": "6ef9e16c-7c08-47dc-a269-e99e79f42dce",
   "metadata": {},
   "source": [
    "<h3>3.Removing elements from a set</h3>"
   ]
  },
  {
   "cell_type": "code",
   "execution_count": 7,
   "id": "6113bf0a-792d-4f5f-a315-a4b819f2399c",
   "metadata": {},
   "outputs": [
    {
     "name": "stdout",
     "output_type": "stream",
     "text": [
      "Before removing: {400, 100, 500, 200, 300}\n",
      "After removing: {100, 500, 300}\n"
     ]
    }
   ],
   "source": [
    "my_set = {100, 200, 300, 400, 500}\n",
    "print(\"Before removing:\", my_set)\n",
    "\n",
    "my_set.remove(200)    \n",
    "my_set.discard(600)\n",
    "my_set.pop()        \n",
    "\n",
    "print(\"After removing:\", my_set)\n"
   ]
  },
  {
   "cell_type": "markdown",
   "id": "253af1d4-1506-4d49-acf2-960d0b4e1c0c",
   "metadata": {},
   "source": [
    "<h3>4.Displaying set items</h3>"
   ]
  },
  {
   "cell_type": "code",
   "execution_count": 8,
   "id": "a819487b-fbc4-4070-937d-920d944d971e",
   "metadata": {},
   "outputs": [
    {
     "name": "stdout",
     "output_type": "stream",
     "text": [
      "Set items are:\n",
      "apple\n",
      "cherry\n",
      "banana\n"
     ]
    }
   ],
   "source": [
    "my_set = {\"apple\", \"banana\", \"cherry\"}\n",
    "\n",
    "print(\"Set items are:\")\n",
    "for item in my_set:\n",
    "    print(item)\n"
   ]
  },
  {
   "cell_type": "markdown",
   "id": "58b64353-d783-4f85-a560-c86de86d002c",
   "metadata": {},
   "source": [
    "<h2>17.Write program to perform set operations.</h2>"
   ]
  },
  {
   "cell_type": "code",
   "execution_count": 10,
   "id": "8adf055e-c403-452d-9204-b0789fc3c432",
   "metadata": {},
   "outputs": [
    {
     "name": "stdout",
     "output_type": "stream",
     "text": [
      "1.Set A: {1, 2, 3, 4, 5}\n",
      "2.Set B: {4, 5, 6, 7, 8}\n",
      "3.Union (A ∪ B): {1, 2, 3, 4, 5, 6, 7, 8}\n",
      "4.Intersection (A ∩ B): {4, 5}\n",
      "5.Difference (A - B): {1, 2, 3}\n",
      "6.Difference (B - A): {8, 6, 7}\n",
      "7.Symmetric Difference (A △ B): {1, 2, 3, 6, 7, 8}\n"
     ]
    }
   ],
   "source": [
    "A = {1, 2, 3, 4, 5}\n",
    "B = {4, 5, 6, 7, 8}\n",
    "\n",
    "print(\"1.Set A:\", A)\n",
    "print(\"2.Set B:\", B)\n",
    "\n",
    "# Union (elements present in either A or B)\n",
    "print(\"3.Union (A ∪ B):\", A | B)\n",
    "\n",
    "# Intersection (elements present in both A and B)\n",
    "print(\"4.Intersection (A ∩ B):\", A & B)\n",
    "\n",
    "# Difference (elements in A but not in B)\n",
    "print(\"5.Difference (A - B):\", A - B)\n",
    "\n",
    "# Difference (elements in B but not in A)\n",
    "print(\"6.Difference (B - A):\", B - A)\n",
    "\n",
    "# Symmetric Difference (elements in A or B but not both)\n",
    "print(\"7.Symmetric Difference (A △ B):\", A ^ B)\n"
   ]
  },
  {
   "cell_type": "markdown",
   "id": "30426373-92a4-4947-ba44-7e43dc71590a",
   "metadata": {},
   "source": [
    "<h2>18.Write program to make use of string manipulation methods and also perform different string \n",
    "operations.</h2>"
   ]
  },
  {
   "cell_type": "markdown",
   "id": "5a9e0c6a-ed8c-4b8a-a56e-ae4d120a4aff",
   "metadata": {},
   "source": [
    "<h3>1.String Manipulation Methods</h3>"
   ]
  },
  {
   "cell_type": "code",
   "execution_count": 15,
   "id": "d016d3bf-0796-4c1f-9abf-87907b11f9de",
   "metadata": {},
   "outputs": [
    {
     "name": "stdout",
     "output_type": "stream",
     "text": [
      "1.Original String:  Hello Python Programming \n",
      "2.Strip: Hello Python Programming\n",
      "3.Uppercase:  HELLO PYTHON PROGRAMMING \n",
      "4.Lowercase:  hello python programming \n",
      "5.Title Case:  Hello Python Programming \n",
      "6.Swap Case:  hELLO pYTHON pROGRAMMING \n",
      "7.Replace 'Python' with 'Java':  Hello Java Programming \n",
      "8.Split into words: ['Hello', 'Python', 'Programming']\n",
      "9.Join with hyphen: Hello-Python-Programming\n",
      "10.Find 'Python': 7\n",
      "11.Count 'o': 3\n",
      "12.Starts with ' Hello': True\n",
      "13.Ends with 'ing ': True\n"
     ]
    }
   ],
   "source": [
    "text = \" Hello Python Programming \"\n",
    "\n",
    "print(\"1.Original String:\", text)\n",
    "\n",
    "# Removing extra spaces\n",
    "print(\"2.Strip:\", text.strip())\n",
    "\n",
    "# Converting cases\n",
    "print(\"3.Uppercase:\", text.upper())\n",
    "print(\"4.Lowercase:\", text.lower())\n",
    "print(\"5.Title Case:\", text.title())\n",
    "print(\"6.Swap Case:\", text.swapcase())\n",
    "\n",
    "# Replacing\n",
    "print(\"7.Replace 'Python' with 'Java':\", text.replace(\"Python\", \"Java\"))\n",
    "\n",
    "# Splitting and Joining\n",
    "words = text.split()\n",
    "print(\"8.Split into words:\", words)\n",
    "joined = \"-\".join(words)\n",
    "print(\"9.Join with hyphen:\", joined)\n",
    "\n",
    "# Finding and Counting\n",
    "print(\"10.Find 'Python':\", text.find(\"Python\"))\n",
    "print(\"11.Count 'o':\", text.count(\"o\"))\n",
    "\n",
    "# Checking\n",
    "print(\"12.Starts with ' Hello':\", text.startswith(\" Hello\"))\n",
    "print(\"13.Ends with 'ing ':\", text.endswith(\"ing \"))"
   ]
  },
  {
   "cell_type": "markdown",
   "id": "a1dcc84b-2968-4ce6-9e09-86c0fe4e74f1",
   "metadata": {},
   "source": [
    "<h3>2.String Operations</h3>"
   ]
  },
  {
   "cell_type": "code",
   "execution_count": 15,
   "id": "030dcafa-ecc3-4288-b142-9439df6d5da1",
   "metadata": {},
   "outputs": [
    {
     "name": "stdout",
     "output_type": "stream",
     "text": [
      "Concatenation: Hello World\n",
      "Repetition: HelloHelloHello\n",
      "Original: Programming\n",
      "Slicing [0:6]: Progra\n",
      "Slicing [-3:]: ing\n",
      "'Pro' in sample: True\n",
      "'Java' not in sample: True\n"
     ]
    }
   ],
   "source": [
    "str1 = \"Hello\"\n",
    "str2 = \"World\"\n",
    "sample = \"Programming\"\n",
    "\n",
    "# Concatenation\n",
    "print(\"Concatenation:\", str1 + \" \" + str2)\n",
    "\n",
    "# Repetition\n",
    "print(\"Repetition:\", str1 * 3)\n",
    "\n",
    "# Slicing\n",
    "print(\"Original:\", sample)\n",
    "print(\"Slicing [0:6]:\", sample[0:6])\n",
    "print(\"Slicing [-3:]:\", sample[-3:])\n",
    "\n",
    "# Membership\n",
    "print(\"'Pro' in sample:\", \"Pro\" in sample)\n",
    "print(\"'Java' not in sample:\", \"Java\" not in sample)\n"
   ]
  },
  {
   "cell_type": "markdown",
   "id": "21b4ad24-d009-470d-aee8-a6fc67becde5",
   "metadata": {},
   "source": [
    "<h2>19.Write program to elaborate object oriented concept with simple examples.</h2>"
   ]
  },
  {
   "cell_type": "markdown",
   "id": "6cec606e-6189-4f6d-b54e-c0b405efb5f3",
   "metadata": {},
   "source": [
    "<h3>1.Class and Object</h3>"
   ]
  },
  {
   "cell_type": "code",
   "execution_count": 8,
   "id": "e973f0c7-b27b-419c-bac5-f9ec49cdbc1a",
   "metadata": {},
   "outputs": [
    {
     "name": "stdout",
     "output_type": "stream",
     "text": [
      "Name: Sabita, Age: 23\n",
      "Name: Bob, Age: 22\n"
     ]
    }
   ],
   "source": [
    "#class\n",
    "class Student:\n",
    "    def __init__(self, name, age):\n",
    "        self.name = name   \n",
    "        self.age = age\n",
    "\n",
    "    def display(self):     \n",
    "        print(f\"Name: {self.name}, Age: {self.age}\")\n",
    "\n",
    "# objects\n",
    "s1 = Student(\"Sabita\", 23)\n",
    "s2 = Student(\"Bob\", 22)\n",
    "\n",
    "s1.display()\n",
    "s2.display()\n"
   ]
  },
  {
   "cell_type": "markdown",
   "id": "aae5b03e-c4a6-4fd6-af7e-98b1df8e856e",
   "metadata": {},
   "source": [
    "<h2>2.Encapsulation</h2>"
   ]
  },
  {
   "cell_type": "code",
   "execution_count": 18,
   "id": "16da86fe-a8bb-4ecc-b4d4-04db87642ffb",
   "metadata": {},
   "outputs": [
    {
     "name": "stdout",
     "output_type": "stream",
     "text": [
      "Deposited: 500\n",
      "Withdrawn: 200\n",
      "Balance: 1300\n"
     ]
    }
   ],
   "source": [
    "class BankAccount:\n",
    "    def __init__(self, owner, balance):\n",
    "        self.owner = owner\n",
    "        self.__balance = balance  \n",
    "\n",
    "    def deposit(self, amount):\n",
    "        self.__balance += amount\n",
    "        print(\"Deposited:\", amount)\n",
    "\n",
    "    def withdraw(self, amount):\n",
    "        if amount <= self.__balance:\n",
    "            self.__balance -= amount\n",
    "            print(\"Withdrawn:\", amount)\n",
    "        else:\n",
    "            print(\"Insufficient Balance\")\n",
    "\n",
    "    def show_balance(self):\n",
    "        print(\"Balance:\", self.__balance)\n",
    "\n",
    "# Example\n",
    "account = BankAccount(\"Alice\", 1000)\n",
    "account.deposit(500)\n",
    "account.withdraw(200)\n",
    "account.show_balance()\n"
   ]
  },
  {
   "cell_type": "markdown",
   "id": "9416bf37-4821-47b5-82e4-370f719c7e2b",
   "metadata": {},
   "source": [
    "<h2>3.Inheritance</h2>"
   ]
  },
  {
   "cell_type": "code",
   "execution_count": 19,
   "id": "077d5fd5-fa6a-4414-9a85-a5b396973040",
   "metadata": {},
   "outputs": [
    {
     "name": "stdout",
     "output_type": "stream",
     "text": [
      "This is an animal\n",
      "Dog says Woof!\n",
      "Cat says Meow!\n"
     ]
    }
   ],
   "source": [
    "class Animal:\n",
    "    def speak(self):\n",
    "        print(\"This is an animal\")\n",
    "\n",
    "# Child class inheriting from Animal\n",
    "class Dog(Animal):\n",
    "    def speak(self):\n",
    "        print(\"Dog says Woof!\")\n",
    "\n",
    "class Cat(Animal):\n",
    "    def speak(self):\n",
    "        print(\"Cat says Meow!\")\n",
    "\n",
    "# Example\n",
    "a = Animal()\n",
    "d = Dog()\n",
    "c = Cat()\n",
    "\n",
    "a.speak()\n",
    "d.speak()\n",
    "c.speak()\n"
   ]
  },
  {
   "cell_type": "markdown",
   "id": "5d90fabc-56de-4766-bca3-89a6b8e6967f",
   "metadata": {},
   "source": [
    "<h2>4.Polymorphism</h2>"
   ]
  },
  {
   "cell_type": "code",
   "execution_count": 21,
   "id": "68387307-8df5-411c-b340-825a7f215efc",
   "metadata": {},
   "outputs": [
    {
     "name": "stdout",
     "output_type": "stream",
     "text": [
      "Area: 78.5\n",
      "Area: 24\n"
     ]
    }
   ],
   "source": [
    "class Shape:\n",
    "    def area(self):\n",
    "        pass   \n",
    "\n",
    "class Circle(Shape):\n",
    "    def __init__(self, radius):\n",
    "        self.radius = radius\n",
    "\n",
    "    def area(self):\n",
    "        return 3.14 * self.radius * self.radius\n",
    "\n",
    "class Rectangle(Shape):\n",
    "    def __init__(self, length, width):\n",
    "        self.length = length\n",
    "        self.width = width\n",
    "\n",
    "    def area(self):\n",
    "        return self.length * self.width\n",
    "\n",
    "# Example \n",
    "shapes = [Circle(5), Rectangle(4, 6)]\n",
    "\n",
    "for shape in shapes:\n",
    "    print(\"Area:\", shape.area())\n"
   ]
  },
  {
   "cell_type": "markdown",
   "id": "e90e93d5-5793-4961-906c-5aec7830ba17",
   "metadata": {},
   "source": [
    "<h3>20.Write program to apply different types of inheritance.</h3>"
   ]
  },
  {
   "cell_type": "markdown",
   "id": "cd38acb0-6702-4122-a72b-f1d8418c440e",
   "metadata": {},
   "source": [
    "<h2>1.Single Inheritance</h2>"
   ]
  },
  {
   "cell_type": "code",
   "execution_count": 17,
   "id": "debb0aa7-a659-4dd7-8da4-d40188fc3fcf",
   "metadata": {},
   "outputs": [
    {
     "name": "stdout",
     "output_type": "stream",
     "text": [
      "This is the Parent class.\n",
      "This is the Child class.\n"
     ]
    }
   ],
   "source": [
    "class Parent:\n",
    "    def show_parent(self):\n",
    "        print(\"This is the Parent class.\")\n",
    "\n",
    "class Child(Parent):  \n",
    "    def show_child(self):\n",
    "        print(\"This is the Child class.\")\n",
    "\n",
    "c = Child()\n",
    "c.show_parent()\n",
    "c.show_child()"
   ]
  },
  {
   "cell_type": "markdown",
   "id": "16c2796a-1305-42b0-b641-caa524f3089c",
   "metadata": {},
   "source": [
    "<h2>2.Multiple Inheritance</h2>"
   ]
  },
  {
   "cell_type": "code",
   "execution_count": 24,
   "id": "f0b8230c-8fa3-41d2-9284-e3e80aff16b2",
   "metadata": {},
   "outputs": [
    {
     "name": "stdout",
     "output_type": "stream",
     "text": [
      "Father's property\n",
      "Mother's property\n",
      "Son inherits from both Father and Mother\n"
     ]
    }
   ],
   "source": [
    "class Father:\n",
    "    def show_father(self):\n",
    "        print(\"Father's property\")\n",
    "\n",
    "class Mother:\n",
    "    def show_mother(self):\n",
    "        print(\"Mother's property\")\n",
    "\n",
    "class Son(Father, Mother):  \n",
    "    def show_son(self):\n",
    "        print(\"Son inherits from both Father and Mother\")\n",
    "\n",
    "s = Son()\n",
    "s.show_father()\n",
    "s.show_mother()\n",
    "s.show_son()\n"
   ]
  },
  {
   "cell_type": "markdown",
   "id": "d85c40bd-610e-45ee-887d-eca6b1cec83d",
   "metadata": {},
   "source": [
    "<h2>3.Multilevel Inheritance</h2>"
   ]
  },
  {
   "cell_type": "code",
   "execution_count": 18,
   "id": "5beb6913-3d96-4a96-be4b-836fc5858ceb",
   "metadata": {},
   "outputs": [
    {
     "name": "stdout",
     "output_type": "stream",
     "text": [
      "This is the Grandparent class.\n",
      "This is the Parent class,\n",
      "This is the Child class.\n"
     ]
    }
   ],
   "source": [
    "class Grandparent:\n",
    "    def show_grandparent(self):\n",
    "        print(\"This is the Grandparent class.\")\n",
    "\n",
    "class Parent(Grandparent):  \n",
    "    def show_parent(self):\n",
    "        print(\"This is the Parent class,\")\n",
    "\n",
    "class Child(Parent):   \n",
    "    def show_child(self):\n",
    "        print(\"This is the Child class.\")\n",
    "\n",
    "c = Child()\n",
    "c.show_grandparent()\n",
    "c.show_parent()\n",
    "c.show_child()\n"
   ]
  },
  {
   "cell_type": "markdown",
   "id": "cc1fd2ed-20f3-4991-a2a2-9144b7d7f7eb",
   "metadata": {},
   "source": [
    "<h2>4.Hierarchical Inheritance</h2>"
   ]
  },
  {
   "cell_type": "code",
   "execution_count": 27,
   "id": "7374e45a-91ae-4713-8516-d2b9276eef91",
   "metadata": {},
   "outputs": [
    {
     "name": "stdout",
     "output_type": "stream",
     "text": [
      "Dog says Woof!\n",
      "Cat says Meow!\n"
     ]
    }
   ],
   "source": [
    "class Animal:\n",
    "    def sound(self):\n",
    "        print(\"Animals make different sounds\")\n",
    "\n",
    "class Dog(Animal):\n",
    "    def sound(self):\n",
    "        print(\"Dog says Woof!\")\n",
    "\n",
    "class Cat(Animal):\n",
    "    def sound(self):\n",
    "        print(\"Cat says Meow!\")\n",
    "\n",
    "d = Dog()\n",
    "c = Cat()\n",
    "d.sound()\n",
    "c.sound()\n"
   ]
  },
  {
   "cell_type": "markdown",
   "id": "fc1772e4-dc5a-4c12-8023-e375408b9c4d",
   "metadata": {},
   "source": [
    "<h2>5.Hybrid Inheritance</h2>"
   ]
  },
  {
   "cell_type": "code",
   "execution_count": 28,
   "id": "1782d478-50bf-45fc-9af5-0b7fd149e16a",
   "metadata": {},
   "outputs": [
    {
     "name": "stdout",
     "output_type": "stream",
     "text": [
      "Class A\n",
      "Class B inherits from A\n",
      "Class C inherits from A\n",
      "Class D inherits from both B and C\n"
     ]
    }
   ],
   "source": [
    "class A:\n",
    "    def method_A(self):\n",
    "        print(\"Class A\")\n",
    "\n",
    "class B(A):\n",
    "    def method_B(self):\n",
    "        print(\"Class B inherits from A\")\n",
    "\n",
    "class C(A):\n",
    "    def method_C(self):\n",
    "        print(\"Class C inherits from A\")\n",
    "\n",
    "class D(B, C):   \n",
    "    def method_D(self):\n",
    "        print(\"Class D inherits from both B and C\")\n",
    "\n",
    "d = D()\n",
    "d.method_A()\n",
    "d.method_B()\n",
    "d.method_C()\n",
    "d.method_D()\n"
   ]
  },
  {
   "cell_type": "markdown",
   "id": "7df9fdd1-9834-4033-9b99-c14005c73bbe",
   "metadata": {},
   "source": [
    "<h2>21.Write program to elaborate polymorphism and data hiding concept.</h2>"
   ]
  },
  {
   "cell_type": "markdown",
   "id": "0c6b7a65-b92a-448d-b46a-c9aed6c021d2",
   "metadata": {},
   "source": [
    "<h3>1.Polymorphism</h3>"
   ]
  },
  {
   "cell_type": "code",
   "execution_count": 29,
   "id": "63cb8ade-7658-4bad-b44f-1be46905ea92",
   "metadata": {},
   "outputs": [
    {
     "name": "stdout",
     "output_type": "stream",
     "text": [
      "Animals make sounds\n",
      "Dog says Woof!\n",
      "Cat says Meow!\n"
     ]
    }
   ],
   "source": [
    "class Animal:\n",
    "    def sound(self):\n",
    "        print(\"Animals make sounds\")\n",
    "\n",
    "class Dog(Animal):\n",
    "    def sound(self):\n",
    "        print(\"Dog says Woof!\")\n",
    "\n",
    "class Cat(Animal):\n",
    "    def sound(self):\n",
    "        print(\"Cat says Meow!\")\n",
    "\n",
    "# Demonstration of Polymorphism\n",
    "animals = [Animal(), Dog(), Cat()]\n",
    "\n",
    "for a in animals:\n",
    "    a.sound()   \n"
   ]
  },
  {
   "cell_type": "markdown",
   "id": "fdfaf69f-7464-41c2-890a-1e5cc5f415fe",
   "metadata": {},
   "source": [
    "<h2>2.Data Hiding</h2>"
   ]
  },
  {
   "cell_type": "code",
   "execution_count": 30,
   "id": "abc9e409-6f4b-4554-a94e-3d66b8be68da",
   "metadata": {},
   "outputs": [
    {
     "name": "stdout",
     "output_type": "stream",
     "text": [
      "Deposited: 500\n",
      "Withdrawn: 200\n",
      "Balance for Alice: 1300\n"
     ]
    }
   ],
   "source": [
    "class BankAccount:\n",
    "    def __init__(self, owner, balance):\n",
    "        self.owner = owner\n",
    "        self.__balance = balance   \n",
    "\n",
    "    def deposit(self, amount):\n",
    "        self.__balance += amount\n",
    "        print(f\"Deposited: {amount}\")\n",
    "\n",
    "    def withdraw(self, amount):\n",
    "        if amount <= self.__balance:\n",
    "            self.__balance -= amount\n",
    "            print(f\"Withdrawn: {amount}\")\n",
    "        else:\n",
    "            print(\"Insufficient Balance\")\n",
    "\n",
    "    def show_balance(self):\n",
    "        print(f\"Balance for {self.owner}: {self.__balance}\")\n",
    "\n",
    "# Example\n",
    "account = BankAccount(\"Alice\", 1000)\n",
    "account.deposit(500)\n",
    "account.withdraw(200)\n",
    "account.show_balance()"
   ]
  },
  {
   "cell_type": "markdown",
   "id": "6eff56d3-deff-4fd2-b3cb-310ec7ae2ed6",
   "metadata": {},
   "source": [
    "<h3>22.Write program to divide work in functions</h3>"
   ]
  },
  {
   "cell_type": "code",
   "execution_count": 1,
   "id": "5424e1eb-7934-4afb-9094-7a98a105c6ca",
   "metadata": {},
   "outputs": [
    {
     "name": "stdin",
     "output_type": "stream",
     "text": [
      "Enter first number:  5\n",
      "Enter second number:  2\n"
     ]
    },
    {
     "name": "stdout",
     "output_type": "stream",
     "text": [
      "Addition: 7.0\n",
      "Subtraction: 3.0\n",
      "Multiplication: 10.0\n",
      "Division: 2.5\n"
     ]
    }
   ],
   "source": [
    "# add \n",
    "def add(a, b):\n",
    "    return a + b\n",
    "\n",
    "#  subtract \n",
    "def subtract(a, b):\n",
    "    return a - b\n",
    "\n",
    "#  multiply \n",
    "def multiply(a, b):\n",
    "    return a * b\n",
    "\n",
    "# divide \n",
    "def divide(a, b):\n",
    "    if b != 0:\n",
    "        return a / b\n",
    "    else:\n",
    "        return \"Error! Division by zero.\"\n",
    "\n",
    "def main():\n",
    "    x = float(input(\"Enter first number: \"))\n",
    "    y = float(input(\"Enter second number: \"))\n",
    "\n",
    "    print(\"Addition:\", add(x, y))\n",
    "    print(\"Subtraction:\", subtract(x, y))\n",
    "    print(\"Multiplication:\", multiply(x, y))\n",
    "    print(\"Division:\", divide(x, y))\n",
    "\n",
    "main()"
   ]
  },
  {
   "cell_type": "markdown",
   "id": "921334cf-c785-4546-96ac-93766eb50c4e",
   "metadata": {},
   "source": [
    "<h2>24.Write program to store output in file.</h2>"
   ]
  },
  {
   "cell_type": "code",
   "execution_count": 2,
   "id": "fe8387a2-1e4d-4081-8439-a1b5476c1fea",
   "metadata": {},
   "outputs": [
    {
     "name": "stdout",
     "output_type": "stream",
     "text": [
      "Data has been written to 'output.txt'.\n"
     ]
    }
   ],
   "source": [
    "file = open(\"output.txt\", \"w\")\n",
    "\n",
    "file.write(\"Hello! This is stored in a file.\\n\")\n",
    "file.write(\"Python can write text to files easily.\\n\")\n",
    "\n",
    "for i in range(1, 6):\n",
    "    file.write(f\"Number: {i}, Square: {i*i}\\n\")\n",
    "\n",
    "file.close()\n",
    "\n",
    "print(\"Data has been written to 'output.txt'.\")\n"
   ]
  },
  {
   "cell_type": "markdown",
   "id": "dff317c7-0da6-4802-b64d-f26df4858f33",
   "metadata": {},
   "source": [
    "<h2>25.Write program to read input from file.</h2>"
   ]
  },
  {
   "cell_type": "code",
   "execution_count": 4,
   "id": "0142bcb9-49c3-4eb3-8e8d-5570472a1387",
   "metadata": {},
   "outputs": [
    {
     "name": "stdout",
     "output_type": "stream",
     "text": [
      "Error: 'input.txt' not found. Please make sure the file exists in the same folder as this script.\n"
     ]
    }
   ],
   "source": [
    "try:\n",
    "    with open(\"input.txt\", \"r\") as file:\n",
    "        content = file.read()  \n",
    "        print(\"File Content:\\n\", content)\n",
    "\n",
    "except FileNotFoundError:\n",
    "    print(\"Error: 'input.txt' not found. Please make sure the file exists in the same folder as this script.\")\n"
   ]
  },
  {
   "cell_type": "markdown",
   "id": "3a7a4ff5-69fd-4359-8e92-fb7f993b8005",
   "metadata": {},
   "source": [
    "<h2>26.Write program to handle different types of exception.</h2>"
   ]
  },
  {
   "cell_type": "markdown",
   "id": "6b250850-df6b-477e-91d5-bb426c035947",
   "metadata": {},
   "source": [
    "<h3>1.Handling ZeroDivisionError</h3>"
   ]
  },
  {
   "cell_type": "code",
   "execution_count": 5,
   "id": "3070e77a-f8d4-4c0d-a263-6dba115eba3e",
   "metadata": {},
   "outputs": [
    {
     "name": "stdout",
     "output_type": "stream",
     "text": [
      "Error: Cannot divide by zero!\n"
     ]
    }
   ],
   "source": [
    "try:\n",
    "    a = 10\n",
    "    b = 0\n",
    "    result = a / b\n",
    "except ZeroDivisionError:\n",
    "    print(\"Error: Cannot divide by zero!\")\n"
   ]
  },
  {
   "cell_type": "markdown",
   "id": "2936aca3-e2cb-490c-9dd8-7b7f13d122dc",
   "metadata": {},
   "source": [
    "<h3>2.Handling ValueError</h3>"
   ]
  },
  {
   "cell_type": "code",
   "execution_count": 6,
   "id": "d0211caf-d384-469e-acbd-2db493028aa3",
   "metadata": {},
   "outputs": [
    {
     "name": "stdin",
     "output_type": "stream",
     "text": [
      "Enter a number:  5\n"
     ]
    },
    {
     "name": "stdout",
     "output_type": "stream",
     "text": [
      "You entered: 5\n"
     ]
    }
   ],
   "source": [
    "try:\n",
    "    num = int(input(\"Enter a number: \"))\n",
    "    print(\"You entered:\", num)\n",
    "except ValueError:\n",
    "    print(\"Error: Invalid input! Please enter a valid number.\")\n"
   ]
  },
  {
   "cell_type": "markdown",
   "id": "607ee527-3dae-4d7e-8898-fd4027340fff",
   "metadata": {},
   "source": [
    "<h3>3.Handling FileNotFoundError</h3>"
   ]
  },
  {
   "cell_type": "code",
   "execution_count": 7,
   "id": "7d54cda9-35f3-4c5e-a83e-c1bba2e7379a",
   "metadata": {},
   "outputs": [
    {
     "name": "stdout",
     "output_type": "stream",
     "text": [
      "Error: File not found!\n"
     ]
    }
   ],
   "source": [
    "try:\n",
    "    with open(\"nonexistent_file.txt\", \"r\") as file:\n",
    "        content = file.read()\n",
    "except FileNotFoundError:\n",
    "    print(\"Error: File not found!\")\n"
   ]
  },
  {
   "cell_type": "markdown",
   "id": "096ed779-f0ee-492d-9ce8-07a16a7b4b85",
   "metadata": {},
   "source": [
    "<h3>4.Handling Multiple Exceptions</h3>"
   ]
  },
  {
   "cell_type": "code",
   "execution_count": 9,
   "id": "ed4218c7-9a90-4eb0-a9eb-97ce64403832",
   "metadata": {},
   "outputs": [
    {
     "name": "stdin",
     "output_type": "stream",
     "text": [
      "Enter numerator:  5\n",
      "Enter denominator:  6\n"
     ]
    },
    {
     "name": "stdout",
     "output_type": "stream",
     "text": [
      "Result: 0.8333333333333334\n"
     ]
    }
   ],
   "source": [
    "try:\n",
    "    x = int(input(\"Enter numerator: \"))\n",
    "    y = int(input(\"Enter denominator: \"))\n",
    "    print(\"Result:\", x / y)\n",
    "except ZeroDivisionError:\n",
    "    print(\"Error: Cannot divide by zero!\")\n",
    "except ValueError:\n",
    "    print(\"Error: Invalid input! Enter numeric values only.\")\n"
   ]
  },
  {
   "cell_type": "markdown",
   "id": "ce01dacb-ddb1-4c81-8753-217f3efac563",
   "metadata": {},
   "source": [
    "<h3>5.Handling Generic Exception (Exception)</h3>"
   ]
  },
  {
   "cell_type": "code",
   "execution_count": 10,
   "id": "b28b61fe-114c-4038-8e6a-aeb0664dbe05",
   "metadata": {},
   "outputs": [
    {
     "name": "stdout",
     "output_type": "stream",
     "text": [
      "An unexpected error occurred: unsupported operand type(s) for +: 'int' and 'str'\n"
     ]
    }
   ],
   "source": [
    "try:\n",
    "    print(10 + \"10\")  # This will raise TypeError\n",
    "except Exception as e:\n",
    "    print(\"An unexpected error occurred:\", e)\n"
   ]
  }
 ],
 "metadata": {
  "kernelspec": {
   "display_name": "Python 3 (ipykernel)",
   "language": "python",
   "name": "python3"
  },
  "language_info": {
   "codemirror_mode": {
    "name": "ipython",
    "version": 3
   },
   "file_extension": ".py",
   "mimetype": "text/x-python",
   "name": "python",
   "nbconvert_exporter": "python",
   "pygments_lexer": "ipython3",
   "version": "3.13.7"
  }
 },
 "nbformat": 4,
 "nbformat_minor": 5
}
